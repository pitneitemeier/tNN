{
 "cells": [
  {
   "cell_type": "code",
   "execution_count": 2,
   "metadata": {},
   "outputs": [
    {
     "name": "stdout",
     "output_type": "stream",
     "text": [
      "Using cuda device\n"
     ]
    }
   ],
   "source": [
    "import pytorch_lightning as pl\n",
    "import torch\n",
    "import Operator as op\n",
    "import utils\n",
    "device = 'cuda' if torch.cuda.is_available() else 'cpu'\n",
    "print('Using {} device'.format(device))"
   ]
  },
  {
   "cell_type": "markdown",
   "metadata": {},
   "source": [
    "Setting up the Hamiltonian"
   ]
  },
  {
   "cell_type": "code",
   "execution_count": 3,
   "metadata": {},
   "outputs": [
    {
     "name": "stdout",
     "output_type": "stream",
     "text": [
      "adding to sequence\n",
      "Hamiltonan = Sx_2 + Sz_1 * Sy_2\n"
     ]
    }
   ],
   "source": [
    "lattice_sites = 3\n",
    "hamiltonian = []\n",
    "h = -1\n",
    "'''\n",
    "for l in range(lattice_sites):\n",
    "  hamiltonian = Sx(l)* (h) + Sz(l) * Sz((l+1) % lattice_sites) + hamiltonian\n",
    "print_op_list(hamiltonian)\n",
    "'''\n",
    "hamiltonian = op.Sx(2) + ([op.Sz(1)*op.Sy(2)] + hamiltonian)\n",
    "op.print_op_list(hamiltonian)"
   ]
  },
  {
   "cell_type": "code",
   "execution_count": 9,
   "metadata": {},
   "outputs": [],
   "source": [
    "#setting up the datamodule\n",
    "class spin_data(torch.utils.data.Dataset):\n",
    "    def __init__(self, lattice_sites):\n",
    "        self.spins = utils.get_all_spin_configs(lattice_sites)\n",
    "\n",
    "    def __len__(self):\n",
    "        return self.spins.shape[0]\n",
    "\n",
    "    def __getitem__(self, index):\n",
    "        return self.spins[index, :]\n",
    "\n",
    "    def cuda(self):\n",
    "        self.spins = self.spins.to(device)\n",
    "\n",
    "data = spin_data(lattice_sites)\n",
    "data.cuda()\n"
   ]
  },
  {
   "cell_type": "code",
   "execution_count": 4,
   "metadata": {},
   "outputs": [
    {
     "name": "stdout",
     "output_type": "stream",
     "text": [
      "tensor([[[-0.0398],\n",
      "         [-0.0398],\n",
      "         [-0.0398],\n",
      "         [-0.0398],\n",
      "         [-0.0398]],\n",
      "\n",
      "        [[-0.0398],\n",
      "         [-0.0398],\n",
      "         [-0.0398],\n",
      "         [-0.0398],\n",
      "         [-0.0398]],\n",
      "\n",
      "        [[-0.0398],\n",
      "         [-0.0398],\n",
      "         [-0.0398],\n",
      "         [-0.0398],\n",
      "         [-0.0398]],\n",
      "\n",
      "        [[-0.0398],\n",
      "         [-0.0398],\n",
      "         [-0.0398],\n",
      "         [-0.0398],\n",
      "         [-0.0398]],\n",
      "\n",
      "        [[-0.0398],\n",
      "         [-0.0398],\n",
      "         [-0.0398],\n",
      "         [-0.0398],\n",
      "         [-0.0398]],\n",
      "\n",
      "        [[-0.0398],\n",
      "         [-0.0398],\n",
      "         [-0.0398],\n",
      "         [-0.0398],\n",
      "         [-0.0398]]], grad_fn=<ViewBackward>)\n"
     ]
    }
   ],
   "source": [
    "import torch\n",
    "from torch.nn import functional as F\n",
    "import pytorch_lightning as pl\n",
    "from torch import nn\n",
    "\n",
    "class Model(pl.LightningModule):\n",
    "\n",
    "  def __init__(self, lattice_sites):\n",
    "    super().__init__()\n",
    "    self.lattice_net = nn.Sequential(\n",
    "      nn.Conv1d(1, 8, kernel_size=2, padding=1, padding_mode='circular'),\n",
    "      nn.ReLU(),\n",
    "      nn.Conv1d(8, 16, kernel_size=2, padding=1, padding_mode='circular'),\n",
    "      nn.Flatten(start_dim=1, end_dim=-1)\n",
    "    )\n",
    "    \n",
    "    self.tNN = nn.Sequential(\n",
    "      nn.Linear(2, 16),\n",
    "      nn.ReLU(),\n",
    "      nn.Linear(16, 32),\n",
    "      nn.ReLU(),\n",
    "      nn.Linear(32, 64)\n",
    "    )\n",
    "\n",
    "    self.psi = nn.Sequential(\n",
    "      nn.Linear( 64 + 16 * ( lattice_sites + 2 ), 256 ),\n",
    "      nn.ReLU(),\n",
    "      nn.Linear(256, 128),\n",
    "      nn.ReLU(),\n",
    "      nn.Linear(128,1)\n",
    "    )\n",
    "\n",
    "  def forward(self, spins, alpha):\n",
    "    '''\n",
    "    Forward function of the neural net to calculate psi. uses same spin config for all alpha values\n",
    "    Parameters\n",
    "    __________\n",
    "    spins: tensor, dtype=int\n",
    "      tensor of input spins to wave function \n",
    "      size = (num_spin_configs, lattice_sites)\n",
    "    alpha: tensor, dtype=float\n",
    "      other inputs to hamiltonian e.g. (time, ext_param) \n",
    "      size = (num_alpha_configs, num_inputs)\n",
    "\n",
    "    Returns\n",
    "    _______\n",
    "    psi: tensor, dtype=complex\n",
    "      wave function for a combination of (spins, alpha) \n",
    "      size = (num_spin_configs, num_alpha_configs)\n",
    "    '''\n",
    "    #circular padding needs tensor of dim 3\n",
    "    spin_inp = torch.unsqueeze(spins, 1)\n",
    "    lat_out = self.lattice_net(spin_inp)\n",
    "    \n",
    "    t_out = self.tNN(alpha)\n",
    "    \n",
    "    #now calculate psi for all combinations of t_out and lat_out\n",
    "    #TODO make this less ugly!\n",
    "    #getting all combinations of spin configs and alpha\n",
    "    lat_out_batched = torch.flatten(torch.broadcast_to(lat_out, (t_out.shape[0], lat_out.shape[0], lat_out.shape[1])), end_dim=-2)\n",
    "    t_out_batched = torch.flatten(torch.broadcast_to(t_out.unsqueeze(1), (t_out.shape[0], lat_out.shape[0], t_out.shape[1])), end_dim=-2)\n",
    "\n",
    "    wave_fun = (self.psi(torch.cat((lat_out_batched, t_out_batched), dim=1))).reshape(t_out.shape[0], lat_out.shape[0], 1)\n",
    "    return wave_fun\n",
    "  \n",
    "  def training_step(self, batch, batch_idx):\n",
    "    #get psi(s, alpha)\n",
    "\n",
    "    #get map and s' to the s from batch_idx\n",
    "\n",
    "    #get psi(s', alpha)\n",
    "\n",
    "    #calc dt_psi(s, alpha)\n",
    "\n",
    "    #get mat_els for all alphas\n",
    "\n",
    "    #get map, s' mat_els for O_loc_init\n",
    "\n",
    "    #calc loss\n",
    "    pass\n",
    "\n",
    "    \n",
    "\n",
    "\n",
    "    \n",
    "\n",
    "\n",
    "model = Model(lattice_sites)\n",
    "\n",
    "num_alpha_samples = 6\n",
    "num_spin_samples = 5\n",
    "spin_inp = torch.arange(1, lattice_sites+1, dtype=torch.float32).broadcast_to(num_spin_samples, lattice_sites)\n",
    "alpha_arr = torch.ones(( num_alpha_samples, 2))\n",
    "print(model(spin_inp, alpha_arr))"
   ]
  },
  {
   "cell_type": "code",
   "execution_count": 5,
   "metadata": {},
   "outputs": [
    {
     "name": "stdout",
     "output_type": "stream",
     "text": [
      "map:  tensor([[[ 1,  1, -1],\n",
      "         [ 1,  1, -1]]], device='cuda:0', dtype=torch.int8)\n",
      "mat els:  tensor([[[[ 1.+0.j,  1.+0.j,  1.+0.j],\n",
      "          [ 1.+0.j,  1.+0.j,  0.+1.j]],\n",
      "\n",
      "         [[ 1.+0.j,  1.+0.j,  1.+0.j],\n",
      "          [ 1.+0.j, -1.+0.j, -0.-1.j]]]], device='cuda:0')\n",
      "spin config:  tensor([[1., 1., 1.]], device='cuda:0')\n"
     ]
    },
    {
     "ename": "TypeError",
     "evalue": "forward() missing 1 required positional argument: 'alpha'",
     "output_type": "error",
     "traceback": [
      "\u001b[0;31m---------------------------------------------------------------------------\u001b[0m",
      "\u001b[0;31mTypeError\u001b[0m                                 Traceback (most recent call last)",
      "\u001b[0;32m<ipython-input-5-48b6577b80c7>\u001b[0m in \u001b[0;36m<module>\u001b[0;34m()\u001b[0m\n\u001b[1;32m     18\u001b[0m \u001b[0mstart\u001b[0m \u001b[0;34m=\u001b[0m \u001b[0mtimer\u001b[0m\u001b[0;34m(\u001b[0m\u001b[0;34m)\u001b[0m\u001b[0;34m\u001b[0m\u001b[0;34m\u001b[0m\u001b[0m\n\u001b[1;32m     19\u001b[0m \u001b[0ms_p\u001b[0m \u001b[0;34m=\u001b[0m \u001b[0mutils\u001b[0m\u001b[0;34m.\u001b[0m\u001b[0mget_sp\u001b[0m\u001b[0;34m(\u001b[0m\u001b[0ms_config\u001b[0m\u001b[0;34m,\u001b[0m \u001b[0mmap\u001b[0m\u001b[0;34m)\u001b[0m\u001b[0;34m\u001b[0m\u001b[0;34m\u001b[0m\u001b[0m\n\u001b[0;32m---> 20\u001b[0;31m \u001b[0mpsi_s\u001b[0m \u001b[0;34m=\u001b[0m \u001b[0mmodel\u001b[0m\u001b[0;34m(\u001b[0m\u001b[0ms_config\u001b[0m\u001b[0;34m)\u001b[0m\u001b[0;34m\u001b[0m\u001b[0;34m\u001b[0m\u001b[0m\n\u001b[0m\u001b[1;32m     21\u001b[0m \u001b[0mpsi_sp\u001b[0m \u001b[0;34m=\u001b[0m \u001b[0mmodel\u001b[0m\u001b[0;34m(\u001b[0m\u001b[0ms_p\u001b[0m\u001b[0;34m.\u001b[0m\u001b[0mreshape\u001b[0m\u001b[0;34m(\u001b[0m\u001b[0;34m-\u001b[0m\u001b[0;36m1\u001b[0m\u001b[0;34m,\u001b[0m \u001b[0mlattice_sites\u001b[0m\u001b[0;34m)\u001b[0m\u001b[0;34m)\u001b[0m\u001b[0;34m.\u001b[0m\u001b[0mreshape\u001b[0m\u001b[0;34m(\u001b[0m\u001b[0ms_p\u001b[0m\u001b[0;34m.\u001b[0m\u001b[0mshape\u001b[0m\u001b[0;34m[\u001b[0m\u001b[0;36m0\u001b[0m\u001b[0;34m]\u001b[0m\u001b[0;34m,\u001b[0m \u001b[0ms_p\u001b[0m\u001b[0;34m.\u001b[0m\u001b[0mshape\u001b[0m\u001b[0;34m[\u001b[0m\u001b[0;36m1\u001b[0m\u001b[0;34m]\u001b[0m\u001b[0;34m)\u001b[0m\u001b[0;34m\u001b[0m\u001b[0;34m\u001b[0m\u001b[0m\n\u001b[1;32m     22\u001b[0m \u001b[0mprint\u001b[0m\u001b[0;34m(\u001b[0m\u001b[0mpsi_sp\u001b[0m\u001b[0;34m.\u001b[0m\u001b[0mshape\u001b[0m\u001b[0;34m,\u001b[0m \u001b[0mpsi_s\u001b[0m\u001b[0;34m.\u001b[0m\u001b[0mshape\u001b[0m\u001b[0;34m,\u001b[0m \u001b[0ms_config\u001b[0m\u001b[0;34m.\u001b[0m\u001b[0mshape\u001b[0m\u001b[0;34m)\u001b[0m\u001b[0;34m\u001b[0m\u001b[0;34m\u001b[0m\u001b[0m\n",
      "\u001b[0;32m/usr/local/lib/python3.7/dist-packages/torch/nn/modules/module.py\u001b[0m in \u001b[0;36m_call_impl\u001b[0;34m(self, *input, **kwargs)\u001b[0m\n\u001b[1;32m   1049\u001b[0m         if not (self._backward_hooks or self._forward_hooks or self._forward_pre_hooks or _global_backward_hooks\n\u001b[1;32m   1050\u001b[0m                 or _global_forward_hooks or _global_forward_pre_hooks):\n\u001b[0;32m-> 1051\u001b[0;31m             \u001b[0;32mreturn\u001b[0m \u001b[0mforward_call\u001b[0m\u001b[0;34m(\u001b[0m\u001b[0;34m*\u001b[0m\u001b[0minput\u001b[0m\u001b[0;34m,\u001b[0m \u001b[0;34m**\u001b[0m\u001b[0mkwargs\u001b[0m\u001b[0;34m)\u001b[0m\u001b[0;34m\u001b[0m\u001b[0;34m\u001b[0m\u001b[0m\n\u001b[0m\u001b[1;32m   1052\u001b[0m         \u001b[0;31m# Do not call functions when jit is used\u001b[0m\u001b[0;34m\u001b[0m\u001b[0;34m\u001b[0m\u001b[0;34m\u001b[0m\u001b[0m\n\u001b[1;32m   1053\u001b[0m         \u001b[0mfull_backward_hooks\u001b[0m\u001b[0;34m,\u001b[0m \u001b[0mnon_full_backward_hooks\u001b[0m \u001b[0;34m=\u001b[0m \u001b[0;34m[\u001b[0m\u001b[0;34m]\u001b[0m\u001b[0;34m,\u001b[0m \u001b[0;34m[\u001b[0m\u001b[0;34m]\u001b[0m\u001b[0;34m\u001b[0m\u001b[0;34m\u001b[0m\u001b[0m\n",
      "\u001b[0;31mTypeError\u001b[0m: forward() missing 1 required positional argument: 'alpha'"
     ]
    }
   ],
   "source": [
    "from timeit import default_timer as timer\n",
    "\n",
    "map = utils.get_map(hamiltonian, lattice_sites)\n",
    "map = map.to(device)\n",
    "print(\"map: \", map)\n",
    "\n",
    "mat_els = utils.get_total_mat_els(hamiltonian, lattice_sites)\n",
    "mat_els = mat_els.to(device)\n",
    "print(\"mat els: \", mat_els)\n",
    "\n",
    "#1.dim: Batch\n",
    "#2.dim: lattice sites\n",
    "#s_config = get_all_spin_configs(lattice_sites)\n",
    "s_config = torch.tensor([1,1,1]).reshape(1,3)\n",
    "s_config = (s_config.type(torch.float32)).to(device)\n",
    "print(\"spin config: \", s_config)\n",
    "\n",
    "start = timer()\n",
    "s_p = utils.get_sp(s_config, map)\n",
    "psi_s = model(s_config)\n",
    "psi_sp = model(s_p.reshape(-1, lattice_sites)).reshape(s_p.shape[0], s_p.shape[1])\n",
    "print(psi_sp.shape, psi_s.shape, s_config.shape)\n",
    "O_loc = utils.calc_Oloc(psi_sp, mat_els, s_config)\n",
    "end = timer()\n",
    "\n",
    "print(f\"time to calculate O_loc: {end - start:.2e}\") "
   ]
  },
  {
   "cell_type": "code",
   "execution_count": 6,
   "metadata": {},
   "outputs": [
    {
     "name": "stdout",
     "output_type": "stream",
     "text": [
      "tensor([[4, 8],\n",
      "        [4, 8],\n",
      "        [1, 2],\n",
      "        [1, 2]])\n",
      "tensor([[0.5000, 0.5000, 0.5000, 0.5000, 0.5000],\n",
      "        [0.1250, 0.1250, 0.1250, 0.1250, 0.1250]])\n",
      "tensor([[0.5000, 0.5000, 0.5000, 0.5000, 0.5000],\n",
      "        [0.1250, 0.1250, 0.1250, 0.1250, 0.1250],\n",
      "        [0.5000, 0.5000, 0.5000, 0.5000, 0.5000],\n",
      "        [0.1250, 0.1250, 0.1250, 0.1250, 0.1250],\n",
      "        [0.5000, 0.5000, 0.5000, 0.5000, 0.5000],\n",
      "        [0.1250, 0.1250, 0.1250, 0.1250, 0.1250],\n",
      "        [0.5000, 0.5000, 0.5000, 0.5000, 0.5000],\n",
      "        [0.1250, 0.1250, 0.1250, 0.1250, 0.1250]])\n",
      "tensor([[4, 8],\n",
      "        [4, 8],\n",
      "        [4, 8],\n",
      "        [4, 8],\n",
      "        [1, 2],\n",
      "        [1, 2],\n",
      "        [1, 2],\n",
      "        [1, 2]])\n"
     ]
    }
   ],
   "source": [
    "spins = torch.full((2,5), 0.5)\n",
    "spins[1,:] /=4\n",
    "\n",
    "alpha = torch.full((4,2), 1)\n",
    "alpha[:, 1] = 2\n",
    "alpha[:2, : ]*=4\n",
    "spins_batched = torch.flatten(torch.broadcast_to(spins, (alpha.shape[0], spins.shape[0], spins.shape[1])), end_dim=-2)\n",
    "alpha_batched = torch.flatten(torch.broadcast_to(alpha.unsqueeze(1), (alpha.shape[0], spins.shape[0], alpha.shape[1])), end_dim=-2)\n",
    "print(alpha)\n",
    "print(spins)\n",
    "\n",
    "print(spins_batched)\n",
    "print(alpha_batched)\n",
    "#torch.cat((alpha, spins), dim=2)"
   ]
  },
  {
   "cell_type": "code",
   "execution_count": null,
   "metadata": {},
   "outputs": [],
   "source": []
  }
 ],
 "metadata": {
  "interpreter": {
   "hash": "31f2aee4e71d21fbe5cf8b01ff0e069b9275f58929596ceb00d14d90e3e16cd6"
  },
  "kernelspec": {
   "display_name": "Python 3.7.10 64-bit",
   "name": "python3"
  },
  "language_info": {
   "codemirror_mode": {
    "name": "ipython",
    "version": 3
   },
   "file_extension": ".py",
   "mimetype": "text/x-python",
   "name": "python",
   "nbconvert_exporter": "python",
   "pygments_lexer": "ipython3",
   "version": "3.7.10"
  },
  "orig_nbformat": 4
 },
 "nbformat": 4,
 "nbformat_minor": 2
}