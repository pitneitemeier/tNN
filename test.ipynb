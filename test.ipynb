{
 "cells": [
  {
   "cell_type": "code",
   "execution_count": 1,
   "source": [
    "import torch"
   ],
   "outputs": [],
   "metadata": {}
  },
  {
   "cell_type": "code",
   "execution_count": 3,
   "source": [
    "t_arr = torch.arange(0,5, dtype=torch.float32).type(torch.complex64)\n",
    "t_arr.requires_grad = True\n",
    "exp = torch.exp(1j * t_arr)\n",
    "grad_exp = torch.autograd.grad(exp.sum(), t_arr, create_graph = True)\n",
    "print(grad_exp)"
   ],
   "outputs": [
    {
     "output_type": "stream",
     "name": "stdout",
     "text": [
      "(tensor([ 0.0000-1.0000j, -0.8415-0.5403j, -0.9093+0.4161j, -0.1411+0.9900j,\n",
      "         0.7568+0.6536j], grad_fn=<MulBackward0>),)\n"
     ]
    }
   ],
   "metadata": {}
  },
  {
   "cell_type": "code",
   "execution_count": 15,
   "source": [
    "t_arr = torch.arange(0,5, dtype=torch.float32).type(torch.float32)\n",
    "t_arr.requires_grad = True\n",
    "exp = torch.exp(1j * t_arr)\n",
    "real_exp = torch.autograd.grad(torch.real(exp.sum()), t_arr, create_graph = True)[0]\n",
    "complex_grad = torch.autograd.grad(torch.imag(exp.sum()), t_arr, create_graph = True)[0]\n",
    "grad_exp = real_exp + 1.j * complex_grad\n",
    "print(grad_exp)"
   ],
   "outputs": [
    {
     "output_type": "stream",
     "name": "stdout",
     "text": [
      "tensor([ 0.0000+1.0000j, -0.8415+0.5403j, -0.9093-0.4161j, -0.1411-0.9900j,\n",
      "         0.7568-0.6536j], grad_fn=<AddBackward0>)\n"
     ]
    }
   ],
   "metadata": {}
  },
  {
   "cell_type": "code",
   "execution_count": null,
   "source": [],
   "outputs": [],
   "metadata": {}
  }
 ],
 "metadata": {
  "orig_nbformat": 4,
  "language_info": {
   "name": "python"
  }
 },
 "nbformat": 4,
 "nbformat_minor": 2
}